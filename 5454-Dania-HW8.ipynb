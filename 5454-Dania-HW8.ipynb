{
 "cells": [
  {
   "cell_type": "markdown",
   "metadata": {},
   "source": [
    "# CSCI 5454 : Assignment 8 \n",
    "\n",
    "Your Name:__Dania Elmadhun__ \n",
    "\n",
    "Collaborated with: \n",
    "\n"
   ]
  },
  {
   "cell_type": "markdown",
   "metadata": {},
   "source": [
    "## Problem 1: Long Path Problem (10 points)\n",
    "\n",
    "Given a graph $G$, two vertices $s, t$ and a number $K$, we wish to know if there exists a (simple) path with at least $K$ edges, between $s$ and $t$ in the graph $G$. Note that a simple path cannot revisit a vertex (or an edge).\n",
    "\n",
    "Show that the long path problem is NP complete.\n",
    "\n",
    "\n"
   ]
  },
  {
   "cell_type": "markdown",
   "metadata": {},
   "source": [
    "## Answer (Expected Size: 12 lines)\n",
    "Proving NP completeness:\n",
    "\n",
    "$\\bullet$ Prove problem is NP\n",
    "\n",
    "$\\bullet$ Prove problem is NP-Hard\n",
    "\n",
    "Problem is NP:\n",
    "\n",
    "NP problems are difficult to create a solution for, but can easily be verified if GIVEN a solution in polynomial time.\n",
    "\n",
    "If given a solution, with at least K edges, this problem can be solved in polynomial time, therefore the problem is NP.\n",
    "\n",
    "NP-completeness can be shown by reduction from the Hamiltonian path problem, a similar NP-Complete problem.\n",
    "\n",
    "Given an instance G of the Hamiltonian path problem, create a new instance of the graph G'= G and K as the number of nodes in the graph -1 (K=n-1).\n",
    "There exists a Hamiltonian path in G, if and only if G' contains a simple path of at least K (K=n-1) edges. \n",
    "\n",
    "\n"
   ]
  },
  {
   "cell_type": "markdown",
   "metadata": {},
   "source": [
    "## Problem 2: Vertex Cover Problem as an 0-1 Integer Linear Program (10 points)\n",
    "\n",
    "Consider an undirected graph $G$ with $n$ nodes and $m$ edges. A vertex cover is a subset $S$ of the\n",
    "vertices of the graph such that for every edge $e$, at least one of its end points belongs to the cover.\n",
    "We wish to find a vertex cover that involves the smallest number of vertices.\n",
    "Formulate a $0-1$ ILP for the minimal vertex cover problem.\n",
    "\n",
    "You should clearly answer the following questions:\n",
    "- What are your decision variables?\n",
    "- What are the constraints for your problem?\n",
    "- What is the objective and do you maximize it or minimize it?\n"
   ]
  },
  {
   "cell_type": "markdown",
   "metadata": {},
   "source": [
    "## Answer (Expected Size: 10 lines)\n",
    "\n",
    "\n",
    "Interger Linear Programming:\n",
    "\n",
    "\n",
    "Decision variables:\n",
    "\n",
    "every vertex has the variable $K_v$.\n",
    "\n",
    "$K_v=1$ if vertex is in the cover, otherwise, $K_v=0$\n",
    "\n",
    "Constraints for the problem:\n",
    "\n",
    "Find a vertex or vertices that every edge in the graph touches on at least 1 end of that vertex. \n",
    "set of inequalities:\n",
    "\n",
    "write out u and v are both vertices between a single edge\n",
    "\n",
    "$K_u+K_v \\geq 1$ for every edge in the graph\n",
    "\n",
    "Objective:\n",
    "\n",
    "Minimize the cost of vertices in the cover, have the fewest number of vertices in the entire cover that will touch the end of every edge in the graph\n",
    "\n",
    "$min \\sum K_v$ for v in our vertex set"
   ]
  },
  {
   "cell_type": "markdown",
   "metadata": {},
   "source": [
    "## Problem 3: Min Truth 2-SAT is NP Complete (10 points)\n",
    "\n",
    "Given that the vertex cover problem is NP-Complete: \n",
    "- Input: An undirected graph and bound K.\n",
    "- Output: Is there a vertex cover whose size is smaller than $K$. \n",
    "See previous problem for definition of vertex cover.\n",
    "\n",
    "Prove that the Min Truth 2-SAT problem is NP Complete.\n",
    "- Input: A CNF SAT problem with at most 2 variables per clause and bound $K$\n",
    "- Output: Is there a satisfying truth assignment which assigns at most $K$ variables to true.\n"
   ]
  },
  {
   "cell_type": "markdown",
   "metadata": {},
   "source": [
    "## Answer (Expected Size: 10 lines)\n",
    "\n",
    "NP:\n",
    "\n",
    "2-SAT is in NP because, although it is difficult to come up with a solution, if given a truth assignment, we can check if it is true in polynomial time. \n",
    "\n",
    "NP Complete:\n",
    "\n",
    "CNF - max 2 variables per clause \n",
    "\n",
    "Prove 2-SAT is NP-complete by reducing Vertex Cover to 2-SAT:\n",
    "\n",
    "Looking back at vertex cover, every edge must touch at least 1 of the 2 vertices on either side of its edge\n",
    "\n",
    "2 Conditions:\n",
    "\n",
    "1. at least 1 of the vertices should be in the vertex cover for each edge\n",
    "2. vertices in the set should be less than or equal to K\n",
    "\n",
    "a literal for every vertex and a clause for every edge\n",
    "\n",
    "\n",
    "for instance if we have two vertices, $x_1$ and $x_2$, between a single edge, the clause could be $(x_1\\vee x_2)$ with a clause for each edge in the graph.\n",
    "\n",
    "We can then search if the clauses are satisfied by the assignment for K literals set to true. Which would correspond to K vertices in the vertex cover. \n",
    "\n"
   ]
  },
  {
   "cell_type": "markdown",
   "metadata": {},
   "source": [
    "## Problem 4: ItemChoice Problem (10 points)\n",
    "\n",
    "Prove that the ItemChoice is NP complete.\n",
    "- We have items $1, \\ldots, N$. \n",
    "- Item number $i$ has cost $c_i$ and value $v_i$.\n",
    "- We wish to select a subset of items whose total cost is less than or equal to our budget $B$ \n",
    "\n",
    "The ItemChoice problem asks if a subset of items whose total costs fall below $B$ can be chosen\n",
    "such that the value of chosen items exceeds $V$.\n",
    "\n",
    "Inputs to the problem are $N, B, V $, item costs $c_1, \\ldots, c_N$, and item values $v_1, \\ldots, v_N$.\n",
    "\n",
    "**Hint:** Use the SUBSET-SUM problem as the starting point."
   ]
  },
  {
   "cell_type": "markdown",
   "metadata": {},
   "source": [
    "## Answer (Expected Size: 12 lines)\n",
    "\n",
    "NP:\n",
    "\n",
    "ItemChoice is NP because the subset of items solution can easily be verified if it is within the budget and exceeds the value in polynomial time, however coming up with the solution is much more difficult. \n",
    "\n",
    "NP-complete:\n",
    "\n",
    "Given a set of numbers, is there a subset that will return a sum value equal to the target, t, a known NP complete problem. \n",
    "\n",
    "We can reduce the subset-sum to ItemChoice problem to prove NP-complete:\n",
    "\n",
    "N=number of items\n",
    "\n",
    "B=our budget, we want our target to be less than this value\n",
    "\n",
    "V=value of the item, we want our target to be greater than this value\n",
    "\n",
    "$c_i$=cost of each item\n",
    "\n",
    "$v_i$=value of each item\n",
    "\n",
    "\n",
    "Alright so we can do:\n",
    "\n",
    "$c_i=v_i=s_i$\n",
    "this is our value corresponding to each item of the subset\n",
    " \n",
    "$B=V=T$\n",
    "all are our target, what we wish to achieve,\n",
    "\n",
    "if the itemchoice problem has a solution \"true\", then the subsetsum problem will also have a true.\n",
    "\n",
    "\n"
   ]
  },
  {
   "cell_type": "code",
   "execution_count": null,
   "metadata": {},
   "outputs": [],
   "source": []
  }
 ],
 "metadata": {
  "kernelspec": {
   "display_name": "Python 3",
   "language": "python",
   "name": "python3"
  },
  "language_info": {
   "codemirror_mode": {
    "name": "ipython",
    "version": 3
   },
   "file_extension": ".py",
   "mimetype": "text/x-python",
   "name": "python",
   "nbconvert_exporter": "python",
   "pygments_lexer": "ipython3",
   "version": "3.6.5"
  }
 },
 "nbformat": 4,
 "nbformat_minor": 2
}
