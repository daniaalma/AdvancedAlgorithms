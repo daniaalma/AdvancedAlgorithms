{
 "cells": [
  {
   "cell_type": "markdown",
   "metadata": {},
   "source": [
    "# CSCI 5454: Assignment 6\n",
    "\n",
    "Dynamic Programming\n",
    "\n",
    "__Your Name: __ Dania Elmadhun\n"
   ]
  },
  {
   "cell_type": "markdown",
   "metadata": {},
   "source": [
    "# Problem 1 (Longest Pattern Match, 25 points)\n",
    "\n",
    "Consider the problem of finding the longest pattern in a string. You are given a string $s$ of length $n$. For simplicity, assume that the string is made up of $4$ characters $A, T, C$ and $G$. You are also given a regular expression pattern of the form $a_1^*a_2^*\\cdots a_m^*$, that is zero or more repetitions of $a_1$, followed by zero or more repetitions of $a_2$, ... , followed by zero or more repetitions of $a_m$, wherein $a_1, \\ldots, a_m \\in \\{ A, T, C, G\\}$\n",
    "\n",
    "As an example consider the string $s:\\ ATCATTTCGAGGGG$ and the pattern $A^*T^*G^*$. \n",
    "\n",
    "You have to find the longest substring (subsequence) of $s$ that matches the regular expression \n",
    "pattern. For instance $AATTTGGGGG$ is a substring of $s$ of length $10$ that matches the pattern. Is there a longer substring that matches the pattern?\n",
    "\n",
    "\n",
    "__Inputs:__ String $s$ made up of characters $A, T, C, G$ and a pattern $p$ given as a string, as well. We do not need to specify the Kleene star next to each character in the pattern: they areimplicitly assumed to be there. "
   ]
  },
  {
   "cell_type": "markdown",
   "metadata": {},
   "source": [
    "__ (A) __ Write a recurrence $LPM(j, k)$ that represents the longest pattern match for the substring\n",
    "$s[j], \\ldots, s[n-1]$ and the sub-pattern from $p[k], \\ldots, p[m-1]$. Do not forget to write the base cases. Use Latex to make your answer readable.\n",
    "\n",
    "Also note that Python indices start at index 0 and end at index length of array - 1. Your recurrence must assume that the strings form such Python strings."
   ]
  },
  {
   "cell_type": "markdown",
   "metadata": {},
   "source": [
    "## Solution\n",
    "\n",
    "\n",
    "__RECURRENCE__\n",
    "\n",
    "String is represented by $S[j]$\n",
    "\n",
    "Regular expression pattern is represented by $P[k]$\n",
    "\n",
    "\\begin{equation*}\n",
    "\\text{if } S[j]==P[k]:\n",
    "\\end{equation*}\n",
    "\n",
    "\n",
    "$$LPM(j,k) = 1+LPM(j+1,k)$$\n",
    "\n",
    "\n",
    "\n",
    "\\begin{equation*}\n",
    "\\text{if } S[j] \\neq P[k]:\n",
    "\\end{equation*}\n",
    "\n",
    "take the max value of either:\n",
    "\n",
    "\\begin{equation*}\n",
    "LPM(j,k)=max \\begin{cases} \\underbrace{LPM(j+1,k)}_{\\text{skip to next character in string}} \\\\ \\underbrace{LPM(j,k+1)}_{\\text{skip to next character in pattern}}\n",
    "\\end{cases}\n",
    "\\end{equation*}\n",
    "\n",
    "\n",
    "__BASE CASES __ \n",
    "\n",
    "Base case is if we reach the end of the string/pattern without a match, therefore:\n",
    "\n",
    "(if string ends)\n",
    "\n",
    "\\begin{equation*}\n",
    "\\text{if } j \\geq n:\n",
    "\\end{equation*}\n",
    "\n",
    "or \n",
    "\n",
    "(if pattern ends)\n",
    "\n",
    "\\begin{equation*}\n",
    "\\text{if } k \\geq m:\n",
    "\\end{equation*}\n",
    "\n",
    "then:\n",
    "\n",
    "\\begin{equation*}\n",
    "LPM(j,k)=0:\n",
    "\\end{equation*}"
   ]
  },
  {
   "cell_type": "markdown",
   "metadata": {},
   "source": [
    "## (B) Implement\n",
    "\n",
    "Implement the recursion above using memoization and recover the solution. \n",
    "\n",
    "In particular, the function `lpm(s,p)` must return a string `t` that is the longest substring of `s` and matches the pattern `p`."
   ]
  },
  {
   "cell_type": "code",
   "execution_count": 37,
   "metadata": {},
   "outputs": [],
   "source": [
    "import pandas as pd\n",
    "\n",
    "#build a table for the decision-> memoization\n",
    "#build a table the lengths of the match\n",
    "\n",
    "\n",
    "def lpm(s, p):\n",
    "    length=[[0 for x in range(len(p)+1)] for y in range(len(s)+1)]\n",
    "        #to put in our lengths\n",
    "    decision=[[0 for x in range(len(p)+1)] for y in range(len(s)+1)]\n",
    "    #x is columns, y is rows\n",
    "    #to put in our decision\n",
    "\n",
    "    \n",
    "    #BOTTOM UP RIGHT TO LEFT SO INSTEAD OF + WE USE -?? KEEP GETTING ERRORS\n",
    "    n=len(s)\n",
    "    m=len(p)\n",
    "    \n",
    "    for j in range(n-1,-1,-1):\n",
    "        for k in range(m-1,-1,-1):\n",
    "            #recursion\n",
    "            if s[j]==p[k]:\n",
    "                length[j][k]=length[j+1][k]+1\n",
    "                decision[j][k]=0\n",
    "                #match+=s[j]\n",
    "            else: #s[j]!=p[k]:\n",
    "                length[j][k]=max(length[j+1][k], length[j][k+1])\n",
    "                if length[j+1][k] == length[j][k]:\n",
    "                    decision[j][k]=1\n",
    "                else:\n",
    "                    decision[j][k]=2\n",
    "            \n",
    "    match=''\n",
    "    #recording the sequences\n",
    "    \n",
    "    #now lets go back to the decision and find the actual sequence\n",
    "    \n",
    "    \n",
    "    #if 0 go down\n",
    "    #if 1 go down -> same \n",
    "    #or 2 right\n",
    "    \n",
    "    j=0\n",
    "    k=0\n",
    "    while j < n and k < m:\n",
    "        if decision[j][k]==0:\n",
    "            match += s[j]\n",
    "            j=j+1\n",
    "            \n",
    "        elif decision[j][k]==1:\n",
    "            j=j+1\n",
    "        \n",
    "        else:\n",
    "            k=k+1\n",
    "\n",
    "    #print(match)    \n",
    "    return match\n",
    "    # return a string t\n",
    "    #assert(False)\n",
    "    \n",
    "    \n",
    "#two different tables for this, one for the lengths one for the decision"
   ]
  },
  {
   "cell_type": "code",
   "execution_count": 38,
   "metadata": {},
   "outputs": [
    {
     "name": "stdout",
     "output_type": "stream",
     "text": [
      "TTTTTTTTTGGA\n",
      "AAAAAAAAA\n",
      "CC\n",
      "GAAAAAAAAAAAAAATTAAAAAAACC\n",
      "AAAAAAAAA\n"
     ]
    }
   ],
   "source": [
    "# TESTS: DO NOT EDIT\n",
    "# I wonder if these solutions are unique or other solutions are possible of equal length.\n",
    "# If you find other solutions, post them on piazza under a single post please.\n",
    "assert( len(lpm('ACTTTTACTTTTTGGATT','TGA')) == len('TTTTTTTTTGGA') )\n",
    "assert( len(lpm('ATCATCATCTCATCATCGATTAACA', 'ACT')) == len('ATTTTTTTT') )\n",
    "assert( len(lpm('ATCCG','CT')) == 2)\n",
    "assert( len(lpm('GATTACAAAAAACTAGAGAGAGAGATTAAATACCAACACCTAT','GATAC')) == len('GATTAAAAAAAAAAAAAAAAACCCCC'))\n",
    "assert( len(lpm('GGAATTAACCAACACAA','CAT')) == len('AAAAAAAAA'))"
   ]
  },
  {
   "cell_type": "markdown",
   "metadata": {},
   "source": [
    "## Problem 2: Reduce Total Variation (25 points)\n",
    "\n",
    "You are given an array $a$ of integers of length $n$. Eg. $a = [1,2, 3, -1, 3, 2]$. \n",
    "The sum of the array is simply $sum(a) = a[0] + \\cdots + a[n-1]$. For example, $sum(a) = 10$. \n",
    "The _total variation_ is the absolute value of the difference between successive elements of the array.\n",
    "$tv(a) =   |a[0] - a[1]| + | a[1] - a[2] | + \\cdots + |a[n-2] - a[n-1] | $.\n",
    "For instance, in the example, $tv(a) =  |1-2| + | 2-3| + | 3-(-1)| + |-1-3| + |3-2| = 11$.\n",
    "\n",
    "\n",
    "You are allowed to add/substract $0, 1$ or $2$ to each element of the array such that \n",
    "(a) the sum of the array remains the same and (b) the total variation of the array is minimized.\n",
    "\n",
    "For instance, conside the array $a$ with $tv(a) = 11$.\n",
    "We can modify it as  $a = [1,2, 3\\color{red}{-1}, -1\\color{red}{+2}, 3\\color{red}{-1}, 2]$, yielding\n",
    "$[1,2,2,1,2,2]$. The sum remains unchanged but the new total variation becomes $3$.\n",
    "\n",
    "Design a dynamic programming solution that will modify each element of the array by adding/subtracting $0,1,$ or $2$ in order reduce the total variation of an array while the sum remains unchanged."
   ]
  },
  {
   "cell_type": "markdown",
   "metadata": {},
   "source": [
    "## Set Up Recursion\n",
    "\n",
    "Define a recursive function \n",
    "\n",
    "$minTV(j, S, p)$ as the minimum total variation distance solution for the sub array \n",
    "$a[j], \\ldots, a[n-1]$, starting from the index $j$ when $S$ is the total change to the sum for\n",
    "the prefix $a[0], \\ldots, a[j-1]$, and $p \\in \\{ -2, -1, 0, 1, 2 \\}$ is the change that was made to \n",
    "$a[j-1]$.\n",
    "\n",
    "Write down the base cases for this recursion. Also specify how you would call this recursion to solve the\n",
    "problem for a given array $a$.\n",
    "\n",
    "**Hint** Convince yourself why we need to track the values of $S$ and $p$ in the recurrence.\n"
   ]
  },
  {
   "cell_type": "markdown",
   "metadata": {},
   "source": [
    "## Solution\n",
    "\n",
    "__ Write Recurrence and Base Cases __\n",
    "\n",
    "__Recurrence__\n",
    "\n",
    "$minTV(j,S,p)=$\n",
    "\n",
    "given an array \"a\",\n",
    "\n",
    "$\\bullet$ j is the current position in the array\n",
    "\n",
    "$\\bullet$ s is the total sum of changes over all elements j in the array a\n",
    "\n",
    "$\\bullet$ $p_1$ is the change in the current step (j)\n",
    "\n",
    "$\\bullet$ $p$ is the change in the last step (j)\n",
    "\n",
    "\n",
    "\\begin{equation*}\n",
    "minTV(j,S,p)=\\text{min } \\underbrace{[\\text{abs}[(a[j]+p_1)}_{\\text{current step}}-\\underbrace{(a[j-1]+p)]}_{\\text{previous step}}+[minTV(j+1,S+p_1,p_1))]]\n",
    "\\end{equation*}\n",
    "\n",
    "\n",
    "Expand above equation for each of the 5 variations from the set where P $\\in \\{-2,-1,0,1,2\\}$\n",
    "\n",
    "    Recurrsively call to itself from j+1 to the rest of the array\n",
    "    \n",
    "$\\blacktriangleright$ for $j \\geq 1$\n",
    "\n",
    "\n",
    "\\begin{equation*}\n",
    "minTV(j,S,p)=min \\begin{cases} \\text{abs}[(a[j]-2)-(a[j-1]+q)]+[minTV(j+1,S-2,-2)] \\\\ \\text{abs}[(a[j]-1)-(a[j-1]+q)]+[minTV(j+1,S-1,-1)] \\\\ \\text{abs}[(a[j])-(a[j-1]+q)]+[minTV(j+1,S,0)]  \\\\ \\text{abs}[(a[j]+1)-(a[j-1]+q)]+[minTV(j+1,S+1,1)] \\\\ \\text{abs}[(a[j]+2)-(a[j-1]+q)]+[minTV(j+1,S+2,2)]\n",
    "\\end{cases}\n",
    "\\end{equation*}\n",
    "\n",
    "\n",
    "$\\blacktriangleright$ for $j=0$ no previous case:\n",
    "\n",
    "\\begin{equation*}\n",
    "minTV(j=0,S,q)=minTV(j+1,S-2,-2)\n",
    "\\end{equation*}\n",
    "\n",
    "can't compute previous if there is no previous\n",
    "\n",
    "\n",
    "__Base Case__\n",
    "\n",
    "\\begin{equation*}\n",
    "minTV(j=n, S^*, q)\n",
    "\\end{equation*}\n",
    "\n",
    "if $S^*==0$\n",
    "\n",
    "    return 0\n",
    "    \n",
    "else (if $S^*!=0$)\n",
    "\n",
    "    return infinity\n"
   ]
  },
  {
   "cell_type": "markdown",
   "metadata": {},
   "source": [
    "## Implementation\n",
    "\n",
    "Implement a function `minimizeTotalVariation` that given an array $a$ returns an new array $\\hat{a}$ \n",
    "wherein each element of $\\hat{a}$ is obtained by adding/subtracting either 0, 1 or 2 to corresponding element of $a$ and the sum of $\\hat{a}$ equals that of $a$ but the total variation of $\\hat{a}$ is as small as possible.\n",
    "\n",
    "Note that building a memo table is slightly harder for this example. You may just want to implement the recursion and just cache previously seen recursive calls in a hashtable.\n",
    "\n",
    "__Suggestion__ Solve this problem in two steps. First implement the recursion without memoization and work on how to recover the solution. Next, use a dictionary to memoize."
   ]
  },
  {
   "cell_type": "code",
   "execution_count": 65,
   "metadata": {},
   "outputs": [],
   "source": [
    "from math import inf\n",
    "\n",
    "def minTV(a, j, s, q, memo):\n",
    "    #key is (j,s,q) and the value is total variation\n",
    "    if (j,s,q) in memo:\n",
    "        v,solution=memo[(j,s,q)]\n",
    "        return v,list(solution) # return total variation if it's already been computed \n",
    "    #base case\n",
    "    if j == len(a):\n",
    "        if s == 0:\n",
    "            return 0,[]\n",
    "        else:\n",
    "            return float(\"inf\"),[]\n",
    "    #recurrision\n",
    "    v,solution=float(\"inf\"),[]\n",
    "    for p in [-2,-1,0,1,2]:\n",
    "        #if j==0:\n",
    "        v1,solution1=minTV(a, j+1, s+p, p, memo)\n",
    "        if j>0:\n",
    "            v1=v1+abs(((a[j]+p))-(a[j-1]+q))#+minTV(a, j+1, s+p, p, memo)\n",
    "            \n",
    "        solution1.insert(0,p)\n",
    "        if v1 < v:\n",
    "            v = v1 #find minimum among 5 choices\n",
    "            solution=solution1\n",
    "    memo[(j,s,q)]=v,list(solution)\n",
    "    \n",
    "    return v,solution\n",
    "            \n",
    "            \n",
    "def minimizeTotalVariation(a):\n",
    "    memo={}\n",
    "    totalvariation, solution=minTV(a,0,0,0,memo)\n",
    "    \n",
    "    return [a[i]+solution[i] for i in range(len(a))]\n"
   ]
  },
  {
   "cell_type": "code",
   "execution_count": 66,
   "metadata": {},
   "outputs": [
    {
     "data": {
      "text/plain": [
       "[-1, -1, -1, 0]"
      ]
     },
     "execution_count": 66,
     "metadata": {},
     "output_type": "execute_result"
    }
   ],
   "source": [
    "minimizeTotalVariation([-2,1,-1,-1])"
   ]
  },
  {
   "cell_type": "code",
   "execution_count": 67,
   "metadata": {},
   "outputs": [],
   "source": [
    "# TEST CODE DO NOT EDIT\n",
    "def calculateTotalVariation(a):\n",
    "    n = len(a)\n",
    "    tv = 0\n",
    "    for i in range(1,n):\n",
    "        tv = tv + abs(a[i]- a[i-1])\n",
    "    return tv\n",
    "\n",
    "def checkResults(a, b):\n",
    "    sol=minimizeTotalVariation(a)\n",
    "    assert (sum(sol) == sum(a)), 'Test failed: you do not preserve the sum of elements of the array'\n",
    "    assert (calculateTotalVariation(sol) == calculateTotalVariation(b)), 'Test failed: your solution does not minimize the total variation'\n",
    "    print('Test Passed')"
   ]
  },
  {
   "cell_type": "code",
   "execution_count": 68,
   "metadata": {},
   "outputs": [
    {
     "name": "stdout",
     "output_type": "stream",
     "text": [
      "Test Passed\n"
     ]
    }
   ],
   "source": [
    "checkResults([2,1,2,-1],[1,1,1,1])"
   ]
  },
  {
   "cell_type": "code",
   "execution_count": 69,
   "metadata": {},
   "outputs": [
    {
     "name": "stdout",
     "output_type": "stream",
     "text": [
      "Test Passed\n"
     ]
    }
   ],
   "source": [
    "checkResults([1,3,4,-2,1,4,2], [3, 3, 3, 0, 0, 2, 2] ) "
   ]
  },
  {
   "cell_type": "code",
   "execution_count": 70,
   "metadata": {},
   "outputs": [
    {
     "name": "stdout",
     "output_type": "stream",
     "text": [
      "Test Passed\n"
     ]
    }
   ],
   "source": [
    "checkResults([-2,1,-1,-1],[0, -1, -1, -1])"
   ]
  },
  {
   "cell_type": "code",
   "execution_count": 71,
   "metadata": {},
   "outputs": [
    {
     "name": "stdout",
     "output_type": "stream",
     "text": [
      "Test Passed\n"
     ]
    }
   ],
   "source": [
    "checkResults([-1,-1,1,-1], [-1, -1, 0, 0])"
   ]
  },
  {
   "cell_type": "code",
   "execution_count": 72,
   "metadata": {},
   "outputs": [
    {
     "name": "stdout",
     "output_type": "stream",
     "text": [
      "Test Passed\n"
     ]
    }
   ],
   "source": [
    "checkResults([-1, -1, 3, 4, 1, 0, 9, -2, 4, -3], [-1, -1, 2, 2, 2, 2, 7, 0, 2, -1])"
   ]
  },
  {
   "cell_type": "code",
   "execution_count": null,
   "metadata": {},
   "outputs": [],
   "source": []
  },
  {
   "cell_type": "code",
   "execution_count": null,
   "metadata": {},
   "outputs": [],
   "source": []
  }
 ],
 "metadata": {
  "kernelspec": {
   "display_name": "Python 3",
   "language": "python",
   "name": "python3"
  },
  "language_info": {
   "codemirror_mode": {
    "name": "ipython",
    "version": 3
   },
   "file_extension": ".py",
   "mimetype": "text/x-python",
   "name": "python",
   "nbconvert_exporter": "python",
   "pygments_lexer": "ipython3",
   "version": "3.6.5"
  }
 },
 "nbformat": 4,
 "nbformat_minor": 2
}
